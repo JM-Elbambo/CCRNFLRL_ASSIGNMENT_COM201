{
  "nbformat": 4,
  "nbformat_minor": 0,
  "metadata": {
    "colab": {
      "provenance": [],
      "collapsed_sections": [
        "DKVjMPyB2TaJ",
        "wy1NZOp49iC7",
        "xlFYHSIYCTT3"
      ],
      "include_colab_link": true
    },
    "kernelspec": {
      "name": "python3",
      "display_name": "Python 3"
    },
    "language_info": {
      "name": "python"
    }
  },
  "cells": [
    {
      "cell_type": "markdown",
      "metadata": {
        "id": "view-in-github",
        "colab_type": "text"
      },
      "source": [
        "<a href=\"https://colab.research.google.com/github/JM-Elbambo/CCRNFLRL_ASSIGNMENT_COM201/blob/main/exercise_1.ipynb\" target=\"_parent\"><img src=\"https://colab.research.google.com/assets/colab-badge.svg\" alt=\"Open In Colab\"/></a>"
      ]
    },
    {
      "cell_type": "markdown",
      "source": [
        "# Exercise 1\n",
        "\n",
        "Please follow the instructions for each number"
      ],
      "metadata": {
        "id": "KdbulXu6s8v0"
      }
    },
    {
      "cell_type": "markdown",
      "source": [
        "## Lists"
      ],
      "metadata": {
        "id": "DKVjMPyB2TaJ"
      }
    },
    {
      "cell_type": "markdown",
      "source": [
        "1. Create a list of lists. Use the three lists below\n",
        "\n",
        "  list1 = [orange, banana]\n",
        "\n",
        "  list2 = [1, 2]\n",
        "\n",
        "  list3 = [True, False]\n",
        "\n",
        "  -----------------------------\n",
        "\n",
        "  **Expected output:**\n",
        "\n",
        "  [[\"orange\", \"banana\"], [1, 2], [True, False]]"
      ],
      "metadata": {
        "id": "2kSgRWVFtAot"
      }
    },
    {
      "cell_type": "code",
      "execution_count": 1,
      "metadata": {
        "id": "dlHNQj0Zs7gT",
        "outputId": "34512700-508a-45b4-fdeb-82207e7e6f3b",
        "colab": {
          "base_uri": "https://localhost:8080/"
        }
      },
      "outputs": [
        {
          "output_type": "execute_result",
          "data": {
            "text/plain": [
              "[['orange', 'banana'], [1, 2], [True, False]]"
            ]
          },
          "metadata": {},
          "execution_count": 1
        }
      ],
      "source": [
        "list1 = [\"orange\", \"banana\"]\n",
        "list2 = [1, 2]\n",
        "list3 = [True, False]\n",
        "\n",
        "# Put your answer here\n",
        "[list1, list2, list3]"
      ]
    },
    {
      "cell_type": "markdown",
      "source": [
        "2. Remove all strings in the list\n",
        "\n",
        "  mylist = [\"A\", 1, \"B\", 10, \"C\", 100, \"D\"]\n",
        "\n",
        "  ----------------------------\n",
        "\n",
        "  **Expected output**:\n",
        "   \n",
        "  [1, 10, 100]"
      ],
      "metadata": {
        "id": "ClYtcLoK3RrX"
      }
    },
    {
      "cell_type": "code",
      "source": [
        "mylist = [\"A\", 1, \"B\", 10, \"C\", 100, \"D\"]\n",
        "\n",
        "# Put your answer here\n",
        "[x for x in mylist if not isinstance(x, str)]"
      ],
      "metadata": {
        "id": "dKgTNDlz4G7l",
        "outputId": "18598437-9525-4d70-b837-2902314c2c69",
        "colab": {
          "base_uri": "https://localhost:8080/"
        }
      },
      "execution_count": 2,
      "outputs": [
        {
          "output_type": "execute_result",
          "data": {
            "text/plain": [
              "[1, 10, 100]"
            ]
          },
          "metadata": {},
          "execution_count": 2
        }
      ]
    },
    {
      "cell_type": "markdown",
      "source": [
        "3. Create a list that will contain the combination of each element in list1 and list2\n",
        "\n",
        "  list1 = [\"DA\", \"SCI\"]\n",
        "\n",
        "  list2 = [\"TA\", \"ENCE\"]\n",
        "\n",
        "  ----------------------------\n",
        "\n",
        "  **Expected output:**\n",
        "\n",
        "  ['DATA', 'SCIENCE']"
      ],
      "metadata": {
        "id": "g0UBXXSG4un9"
      }
    },
    {
      "cell_type": "code",
      "source": [
        "list1 = [\"DA\", \"SCI\"]\n",
        "list2 = [\"TA\", \"ENCE\"]\n",
        "\n",
        "# Put your answer here\n",
        "[a + b for a, b in zip(list1, list2)]"
      ],
      "metadata": {
        "id": "HBZ6liCD8LTS",
        "outputId": "a75bddec-710c-42e1-c695-45110b8ad980",
        "colab": {
          "base_uri": "https://localhost:8080/"
        }
      },
      "execution_count": 3,
      "outputs": [
        {
          "output_type": "execute_result",
          "data": {
            "text/plain": [
              "['DATA', 'SCIENCE']"
            ]
          },
          "metadata": {},
          "execution_count": 3
        }
      ]
    },
    {
      "cell_type": "markdown",
      "source": [
        "4. Remove empty strings in the list\n",
        "\n",
        "  list1 = [\"I\", \"\", \"LOVE\", \"DATA\", \"\", \"SCIENCE\"]\n",
        "\n",
        "  -----------------------\n",
        "\n",
        "  **Expected output:**\n",
        "\n",
        "  [\"I\", \"LOVE\", \"DATA\", \"SCIENCE\"]"
      ],
      "metadata": {
        "id": "03G2IFty6WCn"
      }
    },
    {
      "cell_type": "code",
      "source": [
        "list1 = [\"I\", \"\", \"LOVE\", \"DATA\", \"\", \"SCIENCE\"]\n",
        "\n",
        "# Put your answer here\n",
        "[x for x in list1 if len(x) > 0]"
      ],
      "metadata": {
        "id": "8N2rGftt7Ljr",
        "outputId": "24a128e8-28cd-4cfb-d268-0441d997eb5d",
        "colab": {
          "base_uri": "https://localhost:8080/"
        }
      },
      "execution_count": 4,
      "outputs": [
        {
          "output_type": "execute_result",
          "data": {
            "text/plain": [
              "['I', 'LOVE', 'DATA', 'SCIENCE']"
            ]
          },
          "metadata": {},
          "execution_count": 4
        }
      ]
    },
    {
      "cell_type": "markdown",
      "source": [
        "5. Using list comprehension, create a new list that will only contain the prime numbers in the given list\n",
        "\n",
        "  list1 = [1, 2, 3, 4, 5, 6, 7, 8, 9, 10]\n",
        "\n",
        "  -----------------------------\n",
        "\n",
        "  **Expected output:**\n",
        "  \n",
        "  [2, 3, 5, 7]"
      ],
      "metadata": {
        "id": "wuqBS0Vg7JPw"
      }
    },
    {
      "cell_type": "code",
      "source": [
        "list1 = [1, 2, 3, 4, 5, 6, 7, 8, 9, 10]\n",
        "\n",
        "# Put your answer here\n",
        "[x for x in list1 if x > 1 and all(x % i != 0 for i in range(2, x))]"
      ],
      "metadata": {
        "id": "XoykVs457JkE",
        "outputId": "4af7badb-aa65-4901-d0f0-91a336ba67c6",
        "colab": {
          "base_uri": "https://localhost:8080/"
        }
      },
      "execution_count": 5,
      "outputs": [
        {
          "output_type": "execute_result",
          "data": {
            "text/plain": [
              "[2, 3, 5, 7]"
            ]
          },
          "metadata": {},
          "execution_count": 5
        }
      ]
    },
    {
      "cell_type": "markdown",
      "source": [],
      "metadata": {
        "id": "-lR1qX1a9g0S"
      }
    },
    {
      "cell_type": "markdown",
      "source": [
        "## Tuples"
      ],
      "metadata": {
        "id": "wy1NZOp49iC7"
      }
    },
    {
      "cell_type": "markdown",
      "source": [
        "1. Print the value \"National University\" in the nested tuple.\n",
        "\n",
        "  mytuple = (\"Manila\", [19, 00, \"National University\"], (25, 8, 2023))\n",
        "\n",
        "  --------------------------------\n",
        "\n",
        "  **Expected output:**\n",
        "\n",
        "  National University\n"
      ],
      "metadata": {
        "id": "ldovi4eh9jdF"
      }
    },
    {
      "cell_type": "code",
      "source": [
        "mytuple = (\"Manila\", [19, 00, \"National University\"], (25, 8, 2023))\n",
        "\n",
        "# Put your answer here\n",
        "print(mytuple[1][2])"
      ],
      "metadata": {
        "colab": {
          "base_uri": "https://localhost:8080/"
        },
        "id": "6BM4qMEV98l1",
        "outputId": "4a577180-69ff-4039-fcd4-4e7093d92703"
      },
      "execution_count": 6,
      "outputs": [
        {
          "output_type": "stream",
          "name": "stdout",
          "text": [
            "National University\n"
          ]
        }
      ]
    },
    {
      "cell_type": "markdown",
      "source": [
        "2. Given this tuple\n",
        "\n",
        "  mytuple = (1, 2, 3, 4, 5)\n",
        "\n",
        "  Unpack the following tuple into five variables and display the value of each variable.\n",
        "\n",
        "  --------------------------------\n",
        "\n",
        "  **Expected output:**\n",
        "\n",
        "  print(a) # should print 1\n",
        "\n",
        "  print(b) # should print 2\n",
        "\n",
        "  print(c) # should print 3\n",
        "\n",
        "  print(d) # should print 4\n",
        "\n",
        "  print(d) # should print 5"
      ],
      "metadata": {
        "id": "WumP_Ic4-22c"
      }
    },
    {
      "cell_type": "code",
      "source": [
        "mytuple = (1, 2, 3, 4, 5)\n",
        "\n",
        "# Put your answer here\n",
        "a, b, c, d, e = mytuple\n",
        "\n",
        "print(a) # should print 1\n",
        "print(b) # should print 2\n",
        "print(c) # should print 3\n",
        "print(d) # should print 4\n",
        "print(e) # should print 5"
      ],
      "metadata": {
        "id": "aTUeI4uw_X9H",
        "outputId": "83546780-6ca5-4d4d-af7c-42e358a9326f",
        "colab": {
          "base_uri": "https://localhost:8080/"
        }
      },
      "execution_count": 7,
      "outputs": [
        {
          "output_type": "stream",
          "name": "stdout",
          "text": [
            "1\n",
            "2\n",
            "3\n",
            "4\n",
            "5\n"
          ]
        }
      ]
    },
    {
      "cell_type": "markdown",
      "source": [
        "3. Given this tuple\n",
        "\n",
        "  mytuple = (1, 2, 3, 4, 5, 6, 7, 8, 9, 10)\n",
        "\n",
        "  Use range indexing/slicing to create a new tuple that will only contain the numbers 6 to 10\n",
        "\n",
        "  --------------------------------\n",
        "\n",
        "  **Expected output:**\n",
        "\n",
        "  print(newtuple)\n",
        "\n",
        "  (6, 7, 8, 9, 10)"
      ],
      "metadata": {
        "id": "yXX3t_Xt_mQu"
      }
    },
    {
      "cell_type": "code",
      "source": [
        "mytuple = (1, 2, 3, 4, 5, 6, 7, 8, 9, 10)\n",
        "\n",
        "# Put your answer here\n",
        "newtuple = mytuple[5:]\n",
        "print(newtuple)"
      ],
      "metadata": {
        "id": "_o6TDiOZ_mkB",
        "outputId": "d08fc2b9-a44e-46a3-8a2e-315584e11fae",
        "colab": {
          "base_uri": "https://localhost:8080/"
        }
      },
      "execution_count": 8,
      "outputs": [
        {
          "output_type": "stream",
          "name": "stdout",
          "text": [
            "(6, 7, 8, 9, 10)\n"
          ]
        }
      ]
    },
    {
      "cell_type": "markdown",
      "source": [
        "4. Given this tuple\n",
        "\n",
        "  mytuple = (\"NU\", \"NU\", 55, \"i love data science!\", False, \"NU\", 23)\n",
        "\n",
        "  Count the number of occurrences of the word \"NU\"\n",
        "\n",
        "  --------------------------------\n",
        "\n",
        "  **Expected output:**\n",
        "\n",
        "  3"
      ],
      "metadata": {
        "id": "D-VxNmfJAgi2"
      }
    },
    {
      "cell_type": "code",
      "source": [
        "mytuple = (\"NU\", \"NU\", 55, \"i love data science!\", False, \"NU\", 23)\n",
        "\n",
        "# Put your answer here\n",
        "mytuple.count(\"NU\")"
      ],
      "metadata": {
        "id": "7z66oeBSAg2d",
        "outputId": "41a215e9-f3ea-4b72-f26c-a0dcff3cd833",
        "colab": {
          "base_uri": "https://localhost:8080/"
        }
      },
      "execution_count": 9,
      "outputs": [
        {
          "output_type": "execute_result",
          "data": {
            "text/plain": [
              "3"
            ]
          },
          "metadata": {},
          "execution_count": 9
        }
      ]
    },
    {
      "cell_type": "markdown",
      "source": [
        "5. Given this tuple of tuples\n",
        "\n",
        "  mytuple = (('A', 2),('B', 1),('C', 4), ('D', 3))\n",
        "\n",
        "  Sort mytuple by the second item of each inner tuple\n",
        "\n",
        "  --------------------------------\n",
        "\n",
        "  **Expected output:**\n",
        "\n",
        " (('B', 1),('A', 2),('D', 3), ('C', 4))\n",
        "\n"
      ],
      "metadata": {
        "id": "X59cGUyuA6no"
      }
    },
    {
      "cell_type": "code",
      "source": [
        "mytuple = (('A', 2),('B', 1),('C', 4), ('D', 3))\n",
        "\n",
        "# Put your answer here\n",
        "tuple(sorted(mytuple, key=lambda x: x[1]))"
      ],
      "metadata": {
        "id": "QdLPtKRhA67A",
        "outputId": "a54aa9f0-ffea-4b8f-8b59-93392316b0c1",
        "colab": {
          "base_uri": "https://localhost:8080/"
        }
      },
      "execution_count": 10,
      "outputs": [
        {
          "output_type": "execute_result",
          "data": {
            "text/plain": [
              "(('B', 1), ('A', 2), ('D', 3), ('C', 4))"
            ]
          },
          "metadata": {},
          "execution_count": 10
        }
      ]
    },
    {
      "cell_type": "markdown",
      "source": [
        "# Set"
      ],
      "metadata": {
        "id": "xlFYHSIYCTT3"
      }
    },
    {
      "cell_type": "markdown",
      "source": [
        "1. Given this set and list\n",
        "\n",
        "  myset = {\"A\", \"B\", \"C\"}\n",
        "\n",
        "  mylist = [\"D\", \"E\", \"F\"]\n",
        "\n",
        "  Insert all items in the list into the set\n",
        "\n",
        "  --------------------------------\n",
        "\n",
        "  **Expected output:**\n",
        "\n",
        "  {\"A\", \"B\", \"C\", \"D\", \"E\" , \"F\"}\n",
        "\n",
        "  Note: The order does not matter"
      ],
      "metadata": {
        "id": "31-KYrN_CXF-"
      }
    },
    {
      "cell_type": "code",
      "source": [
        "myset = {\"A\", \"B\", \"C\"}\n",
        "mylist = [\"D\", \"E\", \"F\"]\n",
        "\n",
        "# Put your answer here\n",
        "\n",
        "myset.update(mylist)\n",
        "myset"
      ],
      "metadata": {
        "id": "LebVfecMCVrm",
        "outputId": "3124d211-3fd0-48e3-a16c-e158c290f90e",
        "colab": {
          "base_uri": "https://localhost:8080/"
        }
      },
      "execution_count": 11,
      "outputs": [
        {
          "output_type": "execute_result",
          "data": {
            "text/plain": [
              "{'A', 'B', 'C', 'D', 'E', 'F'}"
            ]
          },
          "metadata": {},
          "execution_count": 11
        }
      ]
    },
    {
      "cell_type": "markdown",
      "source": [
        "2. Use a function to create a new set that will only contain unique items from both sets.\n",
        "\n",
        "  set1 = {\"A\", \"B\", \"C\"}\n",
        "\n",
        "  set2 = {\"C\", \"B\", \"D\"}\n",
        "\n",
        "  --------------------------------\n",
        "\n",
        "  **Expected output:**\n",
        "\n",
        "  {\"A\", \"B\", \"C\", \"D\"}\n",
        "\n",
        "  Note: The order does not matter"
      ],
      "metadata": {
        "id": "mC-vQoLXDCEk"
      }
    },
    {
      "cell_type": "code",
      "source": [
        "set1 = {\"A\", \"B\", \"C\"}\n",
        "set2 = {\"C\", \"B\", \"D\"}\n",
        "\n",
        "# Put your answer here\n",
        "set3 = set1.union(set2)\n",
        "set3"
      ],
      "metadata": {
        "id": "nxMD_diQDCSJ",
        "outputId": "f86652ec-00e3-4841-c04c-96baa00a9883",
        "colab": {
          "base_uri": "https://localhost:8080/"
        }
      },
      "execution_count": 12,
      "outputs": [
        {
          "output_type": "execute_result",
          "data": {
            "text/plain": [
              "{'A', 'B', 'C', 'D'}"
            ]
          },
          "metadata": {},
          "execution_count": 12
        }
      ]
    },
    {
      "cell_type": "markdown",
      "source": [
        "3. Given two sets, use a function to update **set1** with items that only appears in **set1** but not in **set2**.\n",
        "\n",
        "  set1 = {1, 2, 3, 4, 5}\n",
        "\n",
        "  set2 = {2, 3, 4}\n",
        "\n",
        "  --------------------------------\n",
        "\n",
        "  **Expected output:**\n",
        "\n",
        "  {1, 5}\n",
        "\n",
        "  Note: The order does not matter"
      ],
      "metadata": {
        "id": "vo1unYAjD7PC"
      }
    },
    {
      "cell_type": "code",
      "source": [
        "set1 = {1, 2, 3, 4, 5}\n",
        "set2 = {2, 3, 4}\n",
        "\n",
        "# Put your answer here\n",
        "set1.difference_update(set2)\n",
        "set1"
      ],
      "metadata": {
        "id": "V5JILO_oD7io",
        "outputId": "0b804f88-89d8-45c3-fe65-12762ce2774a",
        "colab": {
          "base_uri": "https://localhost:8080/"
        }
      },
      "execution_count": 13,
      "outputs": [
        {
          "output_type": "execute_result",
          "data": {
            "text/plain": [
              "{1, 5}"
            ]
          },
          "metadata": {},
          "execution_count": 13
        }
      ]
    },
    {
      "cell_type": "markdown",
      "source": [
        "4. Given the two sets\n",
        "\n",
        "  set1 = {1, 2, 3, 4, 5}\n",
        "\n",
        "  set2 = {6 ,7, 8, 2, 5}\n",
        "\n",
        "  Use a function to create a new set that will only contain common items from set1 and set2\n",
        "\n",
        "  --------------------------------\n",
        "\n",
        "  **Expected output:**\n",
        "\n",
        "  {2, 5}\n",
        "\n",
        "  Note: The order does not matter\n",
        "\n",
        "\n"
      ],
      "metadata": {
        "id": "UD24DfUYEyqK"
      }
    },
    {
      "cell_type": "code",
      "source": [
        "set1 = {1, 2, 3, 4, 5}\n",
        "set2 = {6 ,7, 8, 2, 5}\n",
        "\n",
        "# Put your answer here\n",
        "set3 = set1.intersection(set2)\n",
        "set3"
      ],
      "metadata": {
        "id": "jZXbbssNFAdT",
        "outputId": "f41fcae2-9758-4fe6-915c-cd8d6979d93f",
        "colab": {
          "base_uri": "https://localhost:8080/"
        }
      },
      "execution_count": 14,
      "outputs": [
        {
          "output_type": "execute_result",
          "data": {
            "text/plain": [
              "{2, 5}"
            ]
          },
          "metadata": {},
          "execution_count": 14
        }
      ]
    },
    {
      "cell_type": "markdown",
      "source": [
        "5. Given the two sets\n",
        "\n",
        "  set1 = {\"APPLE\", \"BANANA\" , \"MANGO\", \"DRAGONFRUIT\"}\n",
        "\n",
        "  set2 = {\"APPLE\", \"GUAVA\", \"CORN\", \"DRAGONFRUIT\"}\n",
        "\n",
        "  Remove items from set1 that are not common to both set1 and set2\n",
        "\n",
        "  --------------------------------\n",
        "\n",
        "  **Expected output:**\n",
        "\n",
        "  {\"APPLE\", \"DRAGONFRUIT\"}\n",
        "\n",
        "  Note: The order does not matter\n",
        "\n"
      ],
      "metadata": {
        "id": "J4rt3u9yGQk6"
      }
    },
    {
      "cell_type": "code",
      "source": [
        "set1 = {\"APPLE\", \"BANANA\" , \"MANGO\", \"DRAGONFRUIT\"}\n",
        "set2 = {\"APPLE\", \"GUAVA\", \"CORN\", \"DRAGONFRUIT\"}\n",
        "\n",
        "# Put your answer here\n",
        "set1.intersection_update(set2)\n",
        "set1"
      ],
      "metadata": {
        "id": "jS1ptbx3GQ4o",
        "outputId": "694895a5-722c-4cf9-dd44-f5b788429e38",
        "colab": {
          "base_uri": "https://localhost:8080/"
        }
      },
      "execution_count": 15,
      "outputs": [
        {
          "output_type": "execute_result",
          "data": {
            "text/plain": [
              "{'APPLE', 'DRAGONFRUIT'}"
            ]
          },
          "metadata": {},
          "execution_count": 15
        }
      ]
    },
    {
      "cell_type": "markdown",
      "source": [
        "# Dictionary"
      ],
      "metadata": {
        "id": "S5qYFrqhJYh_"
      }
    },
    {
      "cell_type": "markdown",
      "source": [
        "1. Given the two lists below\n",
        "\n",
        "  keyslist = ['001', '002', '003']\n",
        "\n",
        "  valueslist = ['RED', 'BLUE', 'GREEN']\n",
        "\n",
        "  Use the **zip()** function to convert them into a dictionary where all items in the keyslist will be the key and the items in the valueslist will be the value\n",
        "\n",
        "  --------------------------------\n",
        "\n",
        "  **Expected output:**\n",
        "\n",
        "  {'001': 'RED', '002': 'BLUE', '003': 'GREEN'}\n",
        "\n",
        "  Note: The order does not matter"
      ],
      "metadata": {
        "id": "Vz-lu0jbIVfi"
      }
    },
    {
      "cell_type": "code",
      "source": [
        "keyslist = ['001', '002', '003']\n",
        "valueslist = ['RED', 'BLUE', 'GREEN']\n",
        "\n",
        "# put your answer here\n",
        "dict(zip(keyslist, valueslist))"
      ],
      "metadata": {
        "id": "mqxbbzNfIUJ6",
        "outputId": "9f598034-233a-4f0e-ad7b-95608706efec",
        "colab": {
          "base_uri": "https://localhost:8080/"
        }
      },
      "execution_count": 16,
      "outputs": [
        {
          "output_type": "execute_result",
          "data": {
            "text/plain": [
              "{'001': 'RED', '002': 'BLUE', '003': 'GREEN'}"
            ]
          },
          "metadata": {},
          "execution_count": 16
        }
      ]
    },
    {
      "cell_type": "markdown",
      "source": [
        "2. Merge the two dictionaries below into a single dictionary\n",
        "\n",
        "  dict1 = {'001': 'A', '002': 'B', '003': 'C'}\n",
        "\n",
        "  dict2 = {'004': 'D', '005': 'E', '006': 'F'}\n",
        "\n",
        "  --------------------------------\n",
        "\n",
        "  **Expected output:**\n",
        "\n",
        "  {'001': 'A', '002': 'B', '003': 'C', '004': 'D', '005': 'E', '006': 'F'}\n",
        "\n",
        "  Note: The order does not matter\n",
        "\n"
      ],
      "metadata": {
        "id": "syCyjMMQJtYt"
      }
    },
    {
      "cell_type": "code",
      "source": [
        "dict1 = {'001': 'A', '002': 'B', '003': 'C'}\n",
        "dict2 = {'004': 'D', '005': 'E', '006': 'F'}\n",
        "\n",
        "# put your answer here\n",
        "dict1.update(dict2)\n",
        "dict1"
      ],
      "metadata": {
        "id": "1cm1ta7pKTTL",
        "outputId": "a3da1334-0ff1-43ea-8c1d-5710e673383e",
        "colab": {
          "base_uri": "https://localhost:8080/"
        }
      },
      "execution_count": 17,
      "outputs": [
        {
          "output_type": "execute_result",
          "data": {
            "text/plain": [
              "{'001': 'A', '002': 'B', '003': 'C', '004': 'D', '005': 'E', '006': 'F'}"
            ]
          },
          "metadata": {},
          "execution_count": 17
        }
      ]
    },
    {
      "cell_type": "markdown",
      "source": [
        "3. Given this dictionary\n",
        "\n",
        "    dict1 = {\n",
        "    \"name\": \"elizer\",\n",
        "    \"age\": 25,\n",
        "    \"surname\": \"ponio\",\n",
        "    \"city\": \"manila\"}\n",
        "\n",
        "  Create a new dictionary that will only contain elements extracted using the name and surname keys.\n",
        "\n",
        "  --------------------------------\n",
        "\n",
        "  **Expected output:**\n",
        "\n",
        "  {'name': 'elizer', 'surname': ponio}\n",
        "\n",
        "  Note: The order does not matter"
      ],
      "metadata": {
        "id": "zgtELDVGKPs6"
      }
    },
    {
      "cell_type": "code",
      "source": [
        "dict1 = { \"name\": \"elizer\", \"age\": 25, \"surname\": \"ponio\", \"city\": \"manila\"}\n",
        "\n",
        "# put your answer here\n",
        "dict2 = {key: dict1[key] for key in (\"name\", \"surname\")}\n",
        "dict2"
      ],
      "metadata": {
        "id": "CCFaPPdfKOhJ",
        "outputId": "83b5cdf6-c6d1-44c3-bb85-425d09791cc9",
        "colab": {
          "base_uri": "https://localhost:8080/"
        }
      },
      "execution_count": 18,
      "outputs": [
        {
          "output_type": "execute_result",
          "data": {
            "text/plain": [
              "{'name': 'elizer', 'surname': 'ponio'}"
            ]
          },
          "metadata": {},
          "execution_count": 18
        }
      ]
    },
    {
      "cell_type": "markdown",
      "source": [
        "4. Given this dictionary\n",
        "\n",
        "    dict1 = {\n",
        "    \"name\": \"elizer\",\n",
        "    \"age\": 25,\n",
        "    \"surname\": \"ponio\",\n",
        "    \"city\": \"New york\"}\n",
        "\n",
        "  Check if the value \"ponio\" is present in the dictionary\n",
        "\n",
        "  --------------------------------\n",
        "\n",
        "  **Expected output:**\n",
        "\n",
        "  \"ponio\" exists in the dictionary\n",
        "\n",
        "  Note: The order does not matter"
      ],
      "metadata": {
        "id": "4dAHmssXKOyX"
      }
    },
    {
      "cell_type": "code",
      "source": [
        "dict1 = { \"name\": \"elizer\", \"age\": 25, \"surname\": \"ponio\", \"city\": \"New york\"}\n",
        "\n",
        "# put your answer here\n",
        "if \"ponio\" in dict1.values():\n",
        "  print('\"ponio\" exists in the dictionary')\n",
        "else:\n",
        "  print('\"ponio\" does not exist in the dictionary')"
      ],
      "metadata": {
        "id": "vE5z05MILtDX",
        "outputId": "9a1ca2b2-4513-4cfc-ad06-4b890aec2aac",
        "colab": {
          "base_uri": "https://localhost:8080/"
        }
      },
      "execution_count": 19,
      "outputs": [
        {
          "output_type": "stream",
          "name": "stdout",
          "text": [
            "\"ponio\" exists in the dictionary\n"
          ]
        }
      ]
    },
    {
      "cell_type": "markdown",
      "source": [
        "5. Given this dictionary\n",
        "\n",
        "    dict1 = {\n",
        "    \"name\": \"elizer\",\n",
        "    \"age\": 25,\n",
        "    \"surname\": \"ponio\",\n",
        "    \"city\": \"manila\"}\n",
        "\n",
        "  Rename the key \"name\" to \"firstname\"\n",
        "\n",
        "  --------------------------------\n",
        "\n",
        "  **Expected output:**\n",
        "\n",
        "    {\n",
        "    \"firstname\": \"elizer\",\n",
        "    \"age\": 25,\n",
        "    \"surname\": \"ponio\",\n",
        "    \"city\": \"manila\"}\n",
        "\n",
        "  Note: The order does not matter"
      ],
      "metadata": {
        "id": "Diz40L2uLq9c"
      }
    },
    {
      "cell_type": "code",
      "source": [
        "dict1 = { \"name\": \"elizer\", \"age\": 25, \"surname\": \"ponio\", \"city\": \"manila\"}\n",
        "\n",
        "# put your answer here\n",
        "dict1[\"firstname\"] = dict1.pop(\"name\")\n",
        "dict1"
      ],
      "metadata": {
        "id": "6V5oEAGGLQrO",
        "outputId": "4478ab6c-35f7-439f-e216-5fb3293632ad",
        "colab": {
          "base_uri": "https://localhost:8080/"
        }
      },
      "execution_count": 20,
      "outputs": [
        {
          "output_type": "execute_result",
          "data": {
            "text/plain": [
              "{'age': 25, 'surname': 'ponio', 'city': 'manila', 'firstname': 'elizer'}"
            ]
          },
          "metadata": {},
          "execution_count": 20
        }
      ]
    }
  ]
}